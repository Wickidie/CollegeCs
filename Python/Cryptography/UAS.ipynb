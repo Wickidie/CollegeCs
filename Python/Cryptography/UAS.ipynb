{
 "cells": [
  {
   "cell_type": "code",
   "execution_count": 3,
   "metadata": {},
   "outputs": [
    {
     "name": "stdout",
     "output_type": "stream",
     "text": [
      "text \t\t: SELAMATPAGI\n",
      "ascii_txt \t: [83, 69, 76, 65, 77, 65, 84, 80, 65, 71, 73]\n",
      "alpha \t\t: 2\n",
      "beta \t\t: 137\n",
      "k \t\t: [41, 42, 43, 44, 45, 46, 47, 48, 49, 50, 51]\n",
      "r \t\t: [22, 44, 88, 176, 137, 59, 118, 21, 42, 84, 168]\n",
      "t \t\t: [91, 26, 178, 75, 79, 70, 82, 205, 150, 34, 144]\n",
      "m \t\t: [67, 69, 184, 85, 73, 45, 1, 5, 65, 61, 112]\n",
      "dec_txt \t: CE¸UI-\u0001\u0005A=p\n"
     ]
    }
   ],
   "source": [
    "import math\n",
    "import random\n",
    "\n",
    "def findAlpha(p,q):\n",
    "    alpha = 2\n",
    "    while True:\n",
    "        if(alpha**2 % p != 1 or alpha**q % p != 1 ):\n",
    "            return alpha\n",
    "        alpha += 1\n",
    "\n",
    "def encrypt(text, k, a, p, q):\n",
    "    alpha = findAlpha(p,q) # Nentukan alpha\n",
    "    beta = alpha**a % p # Nentukan beta (harus diatas p)\n",
    "\n",
    "    r = [alpha**k[i] % p for i in range(len(text))]\n",
    "    t = [beta**k[i] * text[i] % p for i in range(len(text))]\n",
    "\n",
    "    encrypted_text_r = \"\"\n",
    "    text = [chr(i) for i in r]\n",
    "    encrypted_text_r = encrypted_text_r.join(text)\n",
    "    encrypted_text_t = \"\"\n",
    "    text = [chr(i) for i in t]\n",
    "    encrypted_text_t = encrypted_text_t.join(text)\n",
    "\n",
    "    return encrypted_text_r, encrypted_text_t, alpha, beta, r, t\n",
    "\n",
    "def decrypt(r, t, p, a):\n",
    "    m = [t[i] * r[i]**(p-1-a) % p for i in range(len(r))]\n",
    "\n",
    "    decrypted_text = \"\"\n",
    "    text = [chr(i) for i in m]\n",
    "    decrypted_text = decrypted_text.join(text)\n",
    "    return decrypted_text, m\n",
    "\n",
    "def checkPrime(p, q):\n",
    "    return 0\n",
    "\n",
    "text = \"SELAMATPAGI\" # Ini nanti tolong disesuain sama input gui\n",
    "ascii_text = [ord(i) for i in text] # masukin ke array + jadiin ascii\n",
    "\n",
    "p = 215\n",
    "q = (p-1)/2\n",
    "a = p - 2\n",
    "# a = 65 # k manual like ppt\n",
    "\n",
    "# k = [random.randint(2,100000) for i in range(len(text))] # k random\n",
    "k = [41, 42, 43, 44, 45, 46, 47, 48, 49, 50, 51] # k manual like pdf\n",
    "# k = [57, 43, 65, 88, 34, 46, 47, 76, 87, 69, 41, 35] # k manual like ppt\n",
    "\n",
    "# if \n",
    "\n",
    "encrypted_text = \"\"\n",
    "decrypted_text = \"\"\n",
    "encrypted_text_r, encrypted_text_t, alpha, beta, r, t  = encrypt(ascii_text, k, a, p, q)\n",
    "decrypted_text, m = decrypt(r, t, p, a)\n",
    "\n",
    "print(\"text \\t\\t:\", text)\n",
    "print(\"ascii_txt \\t:\", ascii_text)\n",
    "print(\"alpha \\t\\t:\", alpha)\n",
    "print(\"beta \\t\\t:\", beta)\n",
    "print(\"k \\t\\t:\", k)\n",
    "print(\"r \\t\\t:\", r)\n",
    "# print(\"r_txt \\t\\t:\", encrypted_text_r) \n",
    "print(\"t \\t\\t:\", t)\n",
    "# print(\"t_txt \\t\\t:\", encrypted_text_t)\n",
    "print(\"m \\t\\t:\", m)\n",
    "print(\"dec_txt \\t:\", decrypted_text)\n",
    "\n",
    "\n"
   ]
  }
 ],
 "metadata": {
  "kernelspec": {
   "display_name": "Python 3",
   "language": "python",
   "name": "python3"
  },
  "language_info": {
   "codemirror_mode": {
    "name": "ipython",
    "version": 3
   },
   "file_extension": ".py",
   "mimetype": "text/x-python",
   "name": "python",
   "nbconvert_exporter": "python",
   "pygments_lexer": "ipython3",
   "version": "3.11.4"
  },
  "orig_nbformat": 4
 },
 "nbformat": 4,
 "nbformat_minor": 2
}
